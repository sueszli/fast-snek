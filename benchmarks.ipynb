{
 "cells": [
  {
   "cell_type": "code",
   "execution_count": 2,
   "metadata": {},
   "outputs": [
    {
     "name": "stdout",
     "output_type": "stream",
     "text": [
      "uname: posix.uname_result(sysname='Darwin', nodename='Yahyas-MBP', release='23.2.0', version='Darwin Kernel Version 23.2.0: Wed Nov 15 21:55:06 PST 2023; root:xnu-10002.61.3~2/RELEASE_ARM64_T6020', machine='arm64')\n",
      "cores: 12\n"
     ]
    }
   ],
   "source": [
    "import os\n",
    "import sys\n",
    "\n",
    "assert sys.platform == 'darwin'\n",
    "uname = os.uname()\n",
    "print(f'uname: {uname}')\n",
    "\n",
    "cores = os.cpu_count()\n",
    "print(f'cores: {cores}')"
   ]
  },
  {
   "cell_type": "markdown",
   "metadata": {},
   "source": [
    "## multiprocessing"
   ]
  },
  {
   "cell_type": "code",
   "execution_count": 39,
   "metadata": {},
   "outputs": [
    {
     "name": "stdout",
     "output_type": "stream",
     "text": [
      "\n",
      "multithreading:\n"
     ]
    },
    {
     "name": "stderr",
     "output_type": "stream",
     "text": [
      "\n",
      "real\t0m11.160s\n",
      "user\t0m10.991s\n",
      "sys\t0m0.211s\n"
     ]
    },
    {
     "name": "stdout",
     "output_type": "stream",
     "text": [
      "\n",
      "multiprocessing:\n"
     ]
    },
    {
     "name": "stderr",
     "output_type": "stream",
     "text": [
      "\n",
      "real\t0m1.553s\n",
      "user\t0m14.513s\n",
      "sys\t0m0.160s\n"
     ]
    },
    {
     "name": "stdout",
     "output_type": "stream",
     "text": [
      "\n",
      "multiprocessing with pool:\n"
     ]
    },
    {
     "name": "stderr",
     "output_type": "stream",
     "text": [
      "\n",
      "real\t0m0.689s\n",
      "user\t0m1.951s\n",
      "sys\t0m0.156s\n"
     ]
    },
    {
     "name": "stdout",
     "output_type": "stream",
     "text": [
      "\n",
      "multiprocessing with executor:\n"
     ]
    },
    {
     "name": "stderr",
     "output_type": "stream",
     "text": [
      "\n",
      "real\t0m0.692s\n",
      "user\t0m2.029s\n",
      "sys\t0m0.144s\n"
     ]
    },
    {
     "data": {
      "text/plain": [
       "0"
      ]
     },
     "execution_count": 39,
     "metadata": {},
     "output_type": "execute_result"
    }
   ],
   "source": [
    "import os\n",
    "\n",
    "# if \"user time\" > \"real time\", that means we're utilizing multiple cores\n",
    "\n",
    "print()\n",
    "print('multithreading:')\n",
    "os.system('time python3 ./multiprocessing/fibonacci_multithreading.py')\n",
    "\n",
    "print()\n",
    "print('multiprocessing:')\n",
    "os.system('time python3 ./multiprocessing/fibonacci_multiprocessing.py')\n",
    "\n",
    "print()\n",
    "print('multiprocessing with pool:')\n",
    "os.system('time python3 ./multiprocessing/fibonacci_multiprocessing_pool.py')\n",
    "\n",
    "print()\n",
    "print('multiprocessing with executor:')\n",
    "os.system('time python3 ./multiprocessing/fibonacci_multiprocessing_executor.py')"
   ]
  },
  {
   "cell_type": "markdown",
   "metadata": {},
   "source": [
    "## c interopt"
   ]
  },
  {
   "cell_type": "code",
   "execution_count": 62,
   "metadata": {},
   "outputs": [
    {
     "name": "stdout",
     "output_type": "stream",
     "text": [
      "$ gcc -I/opt/homebrew/opt/python@3.11/Frameworks/Python.framework/Versions/3.11/include/python3.11     -L/opt/homebrew/opt/python@3.11/Frameworks/Python.framework/Versions/3.11/lib     -lpython3.11     -shared -fPIC -O3 -o ./c-interopt/fibmodule.so ./c-interopt/fibmodule.c\n",
      "\n",
      "c interopt, multiprocessing with released gil:\n"
     ]
    },
    {
     "name": "stderr",
     "output_type": "stream",
     "text": [
      "\n",
      "real\t0m0.115s\n",
      "user\t0m0.420s\n",
      "sys\t0m0.005s\n"
     ]
    },
    {
     "data": {
      "text/plain": [
       "0"
      ]
     },
     "execution_count": 62,
     "metadata": {},
     "output_type": "execute_result"
    }
   ],
   "source": [
    "import os\n",
    "\n",
    "# run `python3-config --cflags` to get the include path\n",
    "# run `python3-config --ldflags` to get the lib path\n",
    "\n",
    "cmd = \"\"\"\n",
    "gcc -I/opt/homebrew/opt/python@3.11/Frameworks/Python.framework/Versions/3.11/include/python3.11\n",
    "    -L/opt/homebrew/opt/python@3.11/Frameworks/Python.framework/Versions/3.11/lib\n",
    "    -lpython3.11\n",
    "    -shared -fPIC -O3 -o ./c-interopt/fibmodule.so ./c-interopt/fibmodule.c\n",
    "\"\"\".strip().replace('\\n', ' ')\n",
    "\n",
    "print(f\"$ {cmd}\")\n",
    "os.system(cmd)\n",
    "\n",
    "print()\n",
    "print('c interopt, multiprocessing with released gil:')\n",
    "os.system(\"time python3 ./c-interopt/fib.py\")\n"
   ]
  }
 ],
 "metadata": {
  "kernelspec": {
   "display_name": "Python 3",
   "language": "python",
   "name": "python3"
  },
  "language_info": {
   "codemirror_mode": {
    "name": "ipython",
    "version": 3
   },
   "file_extension": ".py",
   "mimetype": "text/x-python",
   "name": "python",
   "nbconvert_exporter": "python",
   "pygments_lexer": "ipython3",
   "version": "3.11.7"
  }
 },
 "nbformat": 4,
 "nbformat_minor": 2
}
