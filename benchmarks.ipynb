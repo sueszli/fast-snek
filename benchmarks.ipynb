{
 "cells": [
  {
   "cell_type": "code",
   "execution_count": 2,
   "metadata": {},
   "outputs": [
    {
     "name": "stdout",
     "output_type": "stream",
     "text": [
      "uname: posix.uname_result(sysname='Darwin', nodename='Yahyas-MBP', release='23.2.0', version='Darwin Kernel Version 23.2.0: Wed Nov 15 21:55:06 PST 2023; root:xnu-10002.61.3~2/RELEASE_ARM64_T6020', machine='arm64')\n",
      "cores: 12\n"
     ]
    }
   ],
   "source": [
    "import os\n",
    "import sys\n",
    "\n",
    "assert sys.platform == 'darwin'\n",
    "uname = os.uname()\n",
    "print(f'uname: {uname}')\n",
    "\n",
    "cores = os.cpu_count()\n",
    "print(f'cores: {cores}')"
   ]
  },
  {
   "cell_type": "markdown",
   "metadata": {},
   "source": [
    "## multiprocessing"
   ]
  },
  {
   "cell_type": "code",
   "execution_count": 14,
   "metadata": {},
   "outputs": [
    {
     "name": "stdout",
     "output_type": "stream",
     "text": [
      "\n",
      "multithreading:\n"
     ]
    },
    {
     "name": "stderr",
     "output_type": "stream",
     "text": [
      "\n",
      "real\t0m11.348s\n",
      "user\t0m11.171s\n",
      "sys\t0m0.217s\n"
     ]
    },
    {
     "name": "stdout",
     "output_type": "stream",
     "text": [
      "\n",
      "multiprocessing:\n"
     ]
    },
    {
     "name": "stderr",
     "output_type": "stream",
     "text": [
      "\n",
      "real\t0m1.474s\n",
      "user\t0m14.347s\n",
      "sys\t0m0.151s\n"
     ]
    },
    {
     "name": "stdout",
     "output_type": "stream",
     "text": [
      "\n",
      "multiprocessing with pool:\n"
     ]
    },
    {
     "name": "stderr",
     "output_type": "stream",
     "text": [
      "\n",
      "real\t0m0.685s\n",
      "user\t0m1.942s\n",
      "sys\t0m0.157s\n"
     ]
    },
    {
     "name": "stdout",
     "output_type": "stream",
     "text": [
      "\n",
      "multiprocessing with executor:\n"
     ]
    },
    {
     "name": "stderr",
     "output_type": "stream",
     "text": [
      "\n",
      "real\t0m0.697s\n",
      "user\t0m2.033s\n",
      "sys\t0m0.156s\n"
     ]
    },
    {
     "data": {
      "text/plain": [
       "0"
      ]
     },
     "execution_count": 14,
     "metadata": {},
     "output_type": "execute_result"
    }
   ],
   "source": [
    "import os\n",
    "\n",
    "# if \"user time\" > \"real time\", that means we're utilizing multiple cores\n",
    "\n",
    "print()\n",
    "print('multithreading:')\n",
    "os.system('time python3 ./multiprocessing/fibonacci_multithreading.py')\n",
    "\n",
    "print()\n",
    "print('multiprocessing:')\n",
    "os.system('time python3 ./multiprocessing/fibonacci_multiprocessing.py')\n",
    "\n",
    "print()\n",
    "print('multiprocessing with pool:')\n",
    "os.system('time python3 ./multiprocessing/fibonacci_multiprocessing_pool.py')\n",
    "\n",
    "print()\n",
    "print('multiprocessing with executor:')\n",
    "os.system('time python3 ./multiprocessing/fibonacci_multiprocessing_executor.py')"
   ]
  },
  {
   "cell_type": "markdown",
   "metadata": {},
   "source": [
    "## c interop"
   ]
  },
  {
   "cell_type": "code",
   "execution_count": 10,
   "metadata": {},
   "outputs": [
    {
     "name": "stdout",
     "output_type": "stream",
     "text": [
      "$ gcc -I/opt/homebrew/opt/python@3.11/Frameworks/Python.framework/Versions/3.11/include/python3.11     -L/opt/homebrew/opt/python@3.11/Frameworks/Python.framework/Versions/3.11/lib     -lpython3.11     -shared -fPIC -O3 -o ./c-interop/fibmodule.so ./c-interop/fibmodule.c\n",
      "\n",
      "c interop, multiprocessing with released gil:\n"
     ]
    },
    {
     "name": "stderr",
     "output_type": "stream",
     "text": [
      "\n",
      "real\t0m0.106s\n",
      "user\t0m0.400s\n",
      "sys\t0m0.005s\n"
     ]
    },
    {
     "data": {
      "text/plain": [
       "0"
      ]
     },
     "execution_count": 10,
     "metadata": {},
     "output_type": "execute_result"
    }
   ],
   "source": [
    "import os\n",
    "\n",
    "# make sure to run with the same python version as the one used to compile the module\n",
    "\n",
    "# run `python3-config --cflags` to get the include path\n",
    "# run `python3-config --ldflags` to get the lib path\n",
    "\n",
    "cmd = \"\"\"\n",
    "gcc -I/opt/homebrew/opt/python@3.11/Frameworks/Python.framework/Versions/3.11/include/python3.11\n",
    "    -L/opt/homebrew/opt/python@3.11/Frameworks/Python.framework/Versions/3.11/lib\n",
    "    -lpython3.11\n",
    "    -shared -fPIC -O3 -o ./c-interop/fibmodule.so ./c-interop/fibmodule.c\n",
    "\"\"\".strip().replace('\\n', ' ')\n",
    "\n",
    "print(f\"$ {cmd}\")\n",
    "os.system(cmd)\n",
    "\n",
    "print()\n",
    "print('c interop, multiprocessing with released gil:')\n",
    "os.system(\"time python3 ./c-interop/fib.py\")\n"
   ]
  },
  {
   "cell_type": "markdown",
   "metadata": {},
   "source": [
    "## cython"
   ]
  },
  {
   "cell_type": "code",
   "execution_count": 3,
   "metadata": {},
   "outputs": [
    {
     "name": "stdout",
     "output_type": "stream",
     "text": [
      "Requirement already satisfied: cython in /opt/homebrew/lib/python3.11/site-packages (3.0.8)\n",
      "\n",
      "c interop, with cython code generation:\n"
     ]
    },
    {
     "name": "stderr",
     "output_type": "stream",
     "text": [
      "\n",
      "real\t0m0.129s\n",
      "user\t0m0.417s\n",
      "sys\t0m0.005s\n"
     ]
    },
    {
     "data": {
      "text/plain": [
       "0"
      ]
     },
     "execution_count": 3,
     "metadata": {},
     "output_type": "execute_result"
    }
   ],
   "source": [
    "import os\n",
    "\n",
    "os.system('pip3 install cython')\n",
    "os.system(\"cythonize --inplace --annotate -3 ./cython/fibmodule.py\")\n",
    "\n",
    "print()\n",
    "print('c interop, with cython code generation:')\n",
    "os.system(\"time python3 ./cython/fib.py\")\n"
   ]
  }
 ],
 "metadata": {
  "kernelspec": {
   "display_name": "Python 3",
   "language": "python",
   "name": "python3"
  },
  "language_info": {
   "codemirror_mode": {
    "name": "ipython",
    "version": 3
   },
   "file_extension": ".py",
   "mimetype": "text/x-python",
   "name": "python",
   "nbconvert_exporter": "python",
   "pygments_lexer": "ipython3",
   "version": "3.11.7"
  }
 },
 "nbformat": 4,
 "nbformat_minor": 2
}
