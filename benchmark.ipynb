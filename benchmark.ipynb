{
 "cells": [
  {
   "cell_type": "code",
   "execution_count": 2,
   "metadata": {},
   "outputs": [
    {
     "name": "stdout",
     "output_type": "stream",
     "text": [
      "uname: posix.uname_result(sysname='Darwin', nodename='Yahyas-MBP', release='23.2.0', version='Darwin Kernel Version 23.2.0: Wed Nov 15 21:55:06 PST 2023; root:xnu-10002.61.3~2/RELEASE_ARM64_T6020', machine='arm64')\n",
      "cores: 12\n"
     ]
    }
   ],
   "source": [
    "import os\n",
    "import sys\n",
    "\n",
    "assert sys.platform == 'darwin'\n",
    "uname = os.uname()\n",
    "print(f'uname: {uname}')\n",
    "\n",
    "cores = os.cpu_count()\n",
    "print(f'cores: {cores}')"
   ]
  },
  {
   "cell_type": "markdown",
   "metadata": {},
   "source": [
    "## multiprocessing"
   ]
  },
  {
   "cell_type": "code",
   "execution_count": 1,
   "metadata": {},
   "outputs": [
    {
     "name": "stdout",
     "output_type": "stream",
     "text": [
      "\n",
      "multithreading:\n"
     ]
    },
    {
     "name": "stderr",
     "output_type": "stream",
     "text": [
      "\n",
      "real\t0m11.160s\n",
      "user\t0m10.994s\n",
      "sys\t0m0.200s\n"
     ]
    },
    {
     "name": "stdout",
     "output_type": "stream",
     "text": [
      "\n",
      "multiprocessing:\n"
     ]
    },
    {
     "name": "stderr",
     "output_type": "stream",
     "text": [
      "\n",
      "real\t0m1.449s\n",
      "user\t0m14.460s\n",
      "sys\t0m0.157s\n"
     ]
    },
    {
     "name": "stdout",
     "output_type": "stream",
     "text": [
      "\n",
      "multiprocessing with pool:\n"
     ]
    },
    {
     "name": "stderr",
     "output_type": "stream",
     "text": [
      "\n",
      "real\t0m0.694s\n",
      "user\t0m1.949s\n",
      "sys\t0m0.140s\n"
     ]
    },
    {
     "name": "stdout",
     "output_type": "stream",
     "text": [
      "\n",
      "multiprocessing with executor:\n"
     ]
    },
    {
     "name": "stderr",
     "output_type": "stream",
     "text": [
      "\n",
      "real\t0m0.690s\n",
      "user\t0m2.033s\n",
      "sys\t0m0.142s\n"
     ]
    },
    {
     "data": {
      "text/plain": [
       "0"
      ]
     },
     "execution_count": 1,
     "metadata": {},
     "output_type": "execute_result"
    }
   ],
   "source": [
    "import os\n",
    "\n",
    "# if \"user time\" > \"real time\", that means we're utilizing multiple cores\n",
    "\n",
    "print()\n",
    "print('multithreading:')\n",
    "os.system('time python3 ./multiprocessing/fibonacci_multithreading.py')\n",
    "\n",
    "print()\n",
    "print('multiprocessing:')\n",
    "os.system('time python3 ./multiprocessing/fibonacci_multiprocessing.py')\n",
    "\n",
    "print()\n",
    "print('multiprocessing with pool:')\n",
    "os.system('time python3 ./multiprocessing/fibonacci_multiprocessing_pool.py')\n",
    "\n",
    "print()\n",
    "print('multiprocessing with executor:')\n",
    "os.system('time python3 ./multiprocessing/fibonacci_multiprocessing_executor.py')"
   ]
  },
  {
   "cell_type": "markdown",
   "metadata": {},
   "source": [
    "## ???"
   ]
  }
 ],
 "metadata": {
  "kernelspec": {
   "display_name": "Python 3",
   "language": "python",
   "name": "python3"
  },
  "language_info": {
   "codemirror_mode": {
    "name": "ipython",
    "version": 3
   },
   "file_extension": ".py",
   "mimetype": "text/x-python",
   "name": "python",
   "nbconvert_exporter": "python",
   "pygments_lexer": "ipython3",
   "version": "3.11.7"
  }
 },
 "nbformat": 4,
 "nbformat_minor": 2
}
